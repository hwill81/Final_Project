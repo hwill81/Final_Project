{
 "cells": [
  {
   "cell_type": "code",
   "execution_count": 6,
   "metadata": {},
   "outputs": [],
   "source": [
    "# This imports\n",
    "import random\n",
    "import matplotlib.pyplot as plt\n",
    "import numpy as np"
   ]
  },
  {
   "cell_type": "code",
   "execution_count": 7,
   "metadata": {},
   "outputs": [],
   "source": [
    "# Define the individual class\n",
    "class Individual:\n",
    "    \"\"\"Class to hold all of the indeviduals in a population\"\"\"    \n",
    "    def __init__(indev,color):\n",
    "        indev.color=color\n",
    "    \n",
    "#List containing phenotypes\n",
    "phenoList=[\"brown\",\"black\"] "
   ]
  },
  {
   "cell_type": "code",
   "execution_count": 8,
   "metadata": {},
   "outputs": [],
   "source": [
    "# Define the Population Class\n",
    "class Population:\n",
    "    def __init__(indev,colorPop,sizePop=500):\n",
    "        \"\"\"Constructor for the Population Class\"\"\"\n",
    "        \n",
    "        indev.colorPop = colorPop\n",
    "        indev.sizePop = sizePop\n",
    "        #Creates a list for indeviduals\n",
    "        indev.listPop = [] \n",
    "        \n",
    "        #This adds 500 (sizePop) indeviduals (ind) to indev.listPop \n",
    "        for ind in range(sizePop): \n",
    "            indev.listPop.append(Individual(color=colorPop))\n",
    "    \n",
    "    def countPheno(indev):\n",
    "        \"\"\"This function counts the number of phenotypes in indev.listPop\"\"\"\n",
    "        \n",
    "        brown = 0\n",
    "        black = 0\n",
    "        for ind in indev.listPop:\n",
    "            if ind.color == \"brown\":\n",
    "                brown += 1\n",
    "            elif ind.color == \"black\":\n",
    "                black += 1\n",
    "            else:\n",
    "                print(\"Something is wrong! Phenotype is not brown or black!\")\n",
    "        phenoNum = [brown,black]\n",
    "        return phenoNum\n",
    "        \n",
    "    def printFrequency(indev):\n",
    "        \"\"\"This function prints a string describing the frequency of the phenotypes.\"\"\"\n",
    "        \n",
    "        print(\"The frenquency of %s is %d/%d.\" % (indev.colorPop, indev.brown, indev.sizePop))\n",
    "              "
   ]
  },
  {
   "cell_type": "code",
   "execution_count": 9,
   "metadata": {},
   "outputs": [],
   "source": [
    "# Define the landscape class\n",
    "class Landscape:\n",
    "    def __init__(indev,popID,sizePop,migration):\n",
    "        \"\"\"Constructor for the Landscape class\"\"\"\n",
    "        \n",
    "        indev.popID = popID\n",
    "        #This retrieves data from the Population Class\n",
    "        indev.landPop = Population(colorPop = phenoList.pop(), sizePop= sizePop)\n",
    "        indev.migration = migration\n",
    "    \n",
    "    # This is a dispersal matrix for np.random.choice to move each indevidual    \n",
    "    moves=[['XX', 'XY'], ['YY', 'YX']]\n",
    "    \n",
    "    def move(indev): \n",
    "        \"\"\"This function moves each indevidual from either X to Y, Y to X, leaves it within its original population.\"\"\"\n",
    "        \n",
    "        #if indevidual is in population X\n",
    "        if popID == 'X': \n",
    "            #randomly select whether to move or stay\n",
    "            randomMove = np.random.choice(movements[0], p = indev.migration)\n",
    "            #stay\n",
    "            if randomMove == 'XX':\n",
    "                pass\n",
    "            #move\n",
    "            elif randomMove == 'XY': \n",
    "                Y.landPop.popList.append(indev.popList.pop())\n",
    "            else:\n",
    "                print(\"Something is wrong!\")\n",
    "        #if indevidual is in population Y\n",
    "        if popID == 'Y':\n",
    "             #randomly select whether to move or stay\n",
    "            randomMove == np.random.choice(movements[1], p = indev.migration) \n",
    "            #stay\n",
    "            if randomMove == 'YY':\n",
    "                pass\n",
    "            #move\n",
    "            elif randomMove == 'YX':\n",
    "                X.landPop.popList.append(indev.popList.pop())\n",
    "            else:\n",
    "                print(\"Something is wrong!\")\n",
    "                \n",
    "        \n",
    "        \n",
    "        "
   ]
  },
  {
   "cell_type": "code",
   "execution_count": 10,
   "metadata": {},
   "outputs": [],
   "source": [
    "#Parameters for Pop X\n",
    "X = Landscape(popID='X', sizePop=250, migration=(0.9,0.1))\n",
    "#Paramters for Pop Y\n",
    "Y = Landscape(popID='Y', sizePop=350, migration=(0.8,0.2)) "
   ]
  },
  {
   "cell_type": "code",
   "execution_count": null,
   "metadata": {},
   "outputs": [],
   "source": []
  }
 ],
 "metadata": {
  "kernelspec": {
   "display_name": "Python 3",
   "language": "python",
   "name": "python3"
  },
  "language_info": {
   "codemirror_mode": {
    "name": "ipython",
    "version": 3
   },
   "file_extension": ".py",
   "mimetype": "text/x-python",
   "name": "python",
   "nbconvert_exporter": "python",
   "pygments_lexer": "ipython3",
   "version": "3.6.4"
  }
 },
 "nbformat": 4,
 "nbformat_minor": 2
}
